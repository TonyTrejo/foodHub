{
 "cells": [
  {
   "cell_type": "markdown",
   "id": "2143c9d4",
   "metadata": {},
   "source": [
    "**FOOD HUB SCIENTIFIC ANALYSIS** \n",
    "    \n",
    "    preliminary objective EDA on dataset 'foodhub_order.csv'\n",
    "        "
   ]
  },
  {
   "cell_type": "code",
   "execution_count": null,
   "id": "559c87a2",
   "metadata": {},
   "outputs": [],
   "source": [
    "# import dataset upload, manipulation, and math libraries to Python notebook\n",
    "import numpy as np\n",
    "import pandas as pd\n",
    "\n",
    "\n",
    "# import data visualization libraries\n",
    "import matplotlib.pyplot as plt\n",
    "import seaborn as sns"
   ]
  }
 ],
 "metadata": {
  "kernelspec": {
   "display_name": "Python 3",
   "language": "python",
   "name": "python3"
  },
  "language_info": {
   "codemirror_mode": {
    "name": "ipython",
    "version": 3
   },
   "file_extension": ".py",
   "mimetype": "text/x-python",
   "name": "python",
   "nbconvert_exporter": "python",
   "pygments_lexer": "ipython3",
   "version": "3.8.8"
  }
 },
 "nbformat": 4,
 "nbformat_minor": 5
}
